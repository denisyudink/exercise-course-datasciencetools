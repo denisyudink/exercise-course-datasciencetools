{
 "cells": [
  {
   "cell_type": "markdown",
   "id": "4bd486ca",
   "metadata": {},
   "source": [
    "# Collegue task"
   ]
  },
  {
   "cell_type": "markdown",
   "id": "baaed791",
   "metadata": {},
   "source": [
    "## Introduction"
   ]
  },
  {
   "cell_type": "markdown",
   "id": "0bc66e01",
   "metadata": {},
   "source": [
    "### Data Science Languages\n",
    "##### - Python\n",
    "##### - R\n",
    "##### - Java"
   ]
  },
  {
   "cell_type": "markdown",
   "id": "79cbb788",
   "metadata": {},
   "source": [
    "### Data Science Libraries\n",
    "#### Numpy\n",
    "#### Pandas\n",
    "#### Scikit-Learn\n",
    "#### Seaborn"
   ]
  },
  {
   "cell_type": "markdown",
   "id": "36e2b605",
   "metadata": {},
   "source": [
    "| Tools |\n",
    "| --- |\n",
    "| jupyter |\n",
    "| Apache Spark |\n",
    "| Matplotlib |"
   ]
  },
  {
   "cell_type": "markdown",
   "id": "a588d78c",
   "metadata": {},
   "source": [
    "### 20 + 5 \n",
    "### 20 / 5\n",
    "### 20 - 5"
   ]
  },
  {
   "cell_type": "code",
   "execution_count": 3,
   "id": "cadb2b3e",
   "metadata": {},
   "outputs": [
    {
     "data": {
      "text/plain": [
       "6"
      ]
     },
     "execution_count": 3,
     "metadata": {},
     "output_type": "execute_result"
    }
   ],
   "source": [
    "2 + 2 * 2"
   ]
  },
  {
   "cell_type": "code",
   "execution_count": 8,
   "id": "f452c0c9",
   "metadata": {},
   "outputs": [
    {
     "name": "stdout",
     "output_type": "stream",
     "text": [
      "Hours= 2\n",
      "Minutes= 40\n"
     ]
    }
   ],
   "source": [
    "min=160\n",
    "h=min//60\n",
    "m=min%60\n",
    "print(\"Hours=\",h)\n",
    "print(\"Minutes=\",m)"
   ]
  },
  {
   "cell_type": "markdown",
   "id": "8f1ecf28",
   "metadata": {},
   "source": [
    "### Goals\n",
    "\n",
    "#### - Title\n",
    "#### - Introduction\n",
    "#### - Data Science Languages\n",
    "#### - Data Science Libraries\n",
    "#### - Data Science Tools\n",
    "#### - Arithmetic expression examples\n",
    "#### - Arithmetic expression\n",
    "#### - Minutes to hours"
   ]
  },
  {
   "cell_type": "markdown",
   "id": "8ee7178a",
   "metadata": {},
   "source": [
    "\n",
    "# author: denis\n"
   ]
  },
  {
   "cell_type": "code",
   "execution_count": null,
   "id": "2bff8785",
   "metadata": {},
   "outputs": [],
   "source": []
  }
 ],
 "metadata": {
  "kernelspec": {
   "display_name": "Python 3 (ipykernel)",
   "language": "python",
   "name": "python3"
  },
  "language_info": {
   "codemirror_mode": {
    "name": "ipython",
    "version": 3
   },
   "file_extension": ".py",
   "mimetype": "text/x-python",
   "name": "python",
   "nbconvert_exporter": "python",
   "pygments_lexer": "ipython3",
   "version": "3.11.5"
  }
 },
 "nbformat": 4,
 "nbformat_minor": 5
}
